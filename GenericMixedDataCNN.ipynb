{
 "cells": [
  {
   "cell_type": "markdown",
   "id": "23097155",
   "metadata": {},
   "source": [
    "# Hybrid Data type CNN - Regression\n",
    "\n",
    "This is a generic notebook to handle hybrid type data. By hybrid type data, we mean data where each data point has both structured features and an image. For example, A data set might contain a person's physical measurements, as well as a photo of their face. The response variable might be how attractive they are from 0 to 1. \n",
    "\n",
    "## Importing Core Libraries"
   ]
  },
  {
   "cell_type": "code",
   "execution_count": 31,
   "id": "3a3ebd28",
   "metadata": {},
   "outputs": [
    {
     "name": "stdout",
     "output_type": "stream",
     "text": [
      "2.3.3\n"
     ]
    }
   ],
   "source": [
    "import tensorflow as tf\n",
    "print(tf.__version__)\n",
    "#I used tensorflow version 2.3.3"
   ]
  },
  {
   "cell_type": "code",
   "execution_count": 32,
   "id": "7f6326a4",
   "metadata": {},
   "outputs": [],
   "source": [
    "from keras.preprocessing.image import ImageDataGenerator\n",
    "import pandas as pd\n",
    "import matplotlib.pyplot as plt"
   ]
  },
  {
   "cell_type": "code",
   "execution_count": 33,
   "id": "4ac1978b",
   "metadata": {},
   "outputs": [
    {
     "name": "stdout",
     "output_type": "stream",
     "text": [
      "[name: \"/device:CPU:0\"\n",
      "device_type: \"CPU\"\n",
      "memory_limit: 268435456\n",
      "locality {\n",
      "}\n",
      "incarnation: 6109187894238733593\n",
      ", name: \"/device:XLA_CPU:0\"\n",
      "device_type: \"XLA_CPU\"\n",
      "memory_limit: 17179869184\n",
      "locality {\n",
      "}\n",
      "incarnation: 16740968887557702340\n",
      "physical_device_desc: \"device: XLA_CPU device\"\n",
      ", name: \"/device:XLA_GPU:0\"\n",
      "device_type: \"XLA_GPU\"\n",
      "memory_limit: 17179869184\n",
      "locality {\n",
      "}\n",
      "incarnation: 5860481012838333517\n",
      "physical_device_desc: \"device: XLA_GPU device\"\n",
      ", name: \"/device:GPU:0\"\n",
      "device_type: \"GPU\"\n",
      "memory_limit: 14676252416\n",
      "locality {\n",
      "  bus_id: 1\n",
      "  links {\n",
      "  }\n",
      "}\n",
      "incarnation: 8030963071800696467\n",
      "physical_device_desc: \"device: 0, name: Tesla T4, pci bus id: 0000:00:04.0, compute capability: 7.5\"\n",
      "]\n"
     ]
    }
   ],
   "source": [
    "from tensorflow.python.client import device_lib\n",
    "print(device_lib.list_local_devices())"
   ]
  },
  {
   "cell_type": "code",
   "execution_count": 34,
   "id": "e34087f1",
   "metadata": {},
   "outputs": [
    {
     "data": {
      "text/plain": [
       "['/device:GPU:0']"
      ]
     },
     "execution_count": 34,
     "metadata": {},
     "output_type": "execute_result"
    }
   ],
   "source": [
    "from tensorflow.python.client import device_lib\n",
    "\n",
    "def get_available_gpus():\n",
    "    local_device_protos = device_lib.list_local_devices()\n",
    "    return [x.name for x in local_device_protos if x.device_type == 'GPU']\n",
    "\n",
    "get_available_gpus()\n",
    "\n",
    "# should be a non-empty list if you program recognizes the GPU"
   ]
  },
  {
   "cell_type": "markdown",
   "id": "2799244b",
   "metadata": {},
   "source": [
    "## Importing the Data\n",
    "\n",
    "Your dataset should be in a format such that you have one column with the filenames of the images, one column with the response variable, and the rest of your columns should be your features."
   ]
  },
  {
   "cell_type": "code",
   "execution_count": 35,
   "id": "3d3566bc",
   "metadata": {},
   "outputs": [],
   "source": [
    "#fill in this section for your dataset\n",
    "\n",
    "dataset_filename = \"test_dataset.csv\"\n",
    "\n",
    "response_col_name = \"resp\"\n",
    "\n",
    "image_filename_col_name = \"images\"\n",
    "\n",
    "path = \"Images\" #the path where your iamges are stored. You may leave this as an empty string if your dataset contains full paths for your images. "
   ]
  },
  {
   "cell_type": "code",
   "execution_count": null,
   "id": "870706d0",
   "metadata": {},
   "outputs": [],
   "source": [
    "df = pd.read_csv(dataset_filename)\n",
    "df.head(5)"
   ]
  },
  {
   "cell_type": "code",
   "execution_count": 37,
   "id": "e1562566",
   "metadata": {},
   "outputs": [
    {
     "data": {
      "text/plain": [
       "(94102, 70)"
      ]
     },
     "execution_count": 37,
     "metadata": {},
     "output_type": "execute_result"
    }
   ],
   "source": [
    "df.shape"
   ]
  },
  {
   "cell_type": "code",
   "execution_count": 38,
   "id": "59d58c1a",
   "metadata": {},
   "outputs": [],
   "source": [
    "response = df[response_col_name]\n",
    "image_filenames = df[image_filename_col_name]\n",
    "\n",
    "features_df = df.drop([response_col_name, image_filename_col_name], axis = 1)"
   ]
  },
  {
   "cell_type": "code",
   "execution_count": 39,
   "id": "d5446e10",
   "metadata": {},
   "outputs": [
    {
     "data": {
      "text/plain": [
       "(94102, 68)"
      ]
     },
     "execution_count": 39,
     "metadata": {},
     "output_type": "execute_result"
    }
   ],
   "source": [
    "features_df.shape"
   ]
  },
  {
   "cell_type": "markdown",
   "id": "67e2c71f",
   "metadata": {},
   "source": [
    "## Preprocessing\n",
    "\n",
    "Here we will preprocess the data. By default, we will encode and scale the data. Feel free to add your own steps."
   ]
  },
  {
   "cell_type": "code",
   "execution_count": 40,
   "id": "cbed20bb",
   "metadata": {},
   "outputs": [
    {
     "name": "stdout",
     "output_type": "stream",
     "text": [
      "(94102, 68)\n",
      "(94102, 111)\n"
     ]
    }
   ],
   "source": [
    "#one-hot encoding\n",
    "print(features_df.shape)\n",
    "features_df = pd.get_dummies(features_df)\n",
    "print(features_df.shape)"
   ]
  },
  {
   "cell_type": "code",
   "execution_count": 41,
   "id": "18b544cb",
   "metadata": {},
   "outputs": [],
   "source": [
    "#normal scaling\n",
    "normalized_df=(features_df-features_df.mean())/features_df.std()"
   ]
  },
  {
   "cell_type": "code",
   "execution_count": null,
   "id": "4e49e99d",
   "metadata": {},
   "outputs": [],
   "source": [
    "# add back the image filenames\n",
    "normalized_df[image_filename_col_name] = image_filenames\n",
    "normalized_df.head()"
   ]
  },
  {
   "cell_type": "markdown",
   "id": "c412370a",
   "metadata": {},
   "source": [
    "## Data Generator\n",
    "\n",
    "Because we may be using a large dataset, there is a chance that loading our entire dataset into memory may not be feasible. For image problems we can get around this the tensorflow class ImageDataGenerator. However, since we are using hybrid data, we also would need a generator for the non-image feature data. These would need to be wrapped up in another generator and that generator would be passed to the model for training. I tried this approach, but found lots of issues with shuffling, images getting out of order, and weird edge cases. In the end I decided to build my own generator that alliviated all these problems. It runs slower than the tensorflow solution, but I found the performance loss to be negligible when compared to the computational load of training the model. "
   ]
  },
  {
   "cell_type": "code",
   "execution_count": 159,
   "id": "5c124795",
   "metadata": {},
   "outputs": [],
   "source": [
    "import numpy as np\n",
    "from matplotlib import image\n",
    "def CustomGenerator(path, features_with_images_df, response_series, batch_size, im_width = image_width, im_height = image_height, im_channels = image_channels):\n",
    "    response = response_series.to_numpy()\n",
    "    \n",
    "    size = len(response)\n",
    "    \n",
    "    def GetImage(filename):\n",
    "        return image.imread( path + filename)[:,:,:im_channels]\n",
    "    \n",
    "    def GetManyImages(filenames):\n",
    "        arr = np.zeros((batch_size, im_width, im_height, im_channels))\n",
    "        for j, filename in enumerate(filenames):\n",
    "            arr[j] = GetImage(filename)\n",
    "        return arr\n",
    "    \n",
    "    features_without_images = features_with_images_df.drop(image_filename_col_name, axis = 1).to_numpy()\n",
    "    image_filenames = features_with_images_df[image_filename_col_name]\n",
    "    i = 0\n",
    "    \n",
    "    while True:\n",
    "            resp = response[i:i + batch_size]\n",
    "            features = features_without_images[i:i + batch_size, :]\n",
    "            images = GetManyImages(image_filenames[i:i + batch_size])\n",
    "            #print(\"i:\",i)\n",
    "            yield ((features, images), resp)\n",
    "            i += batch_size\n",
    "            \n",
    "            if i >= size:\n",
    "                i = 0\n",
    "                #print('restart')"
   ]
  },
  {
   "cell_type": "markdown",
   "id": "7f049a15",
   "metadata": {},
   "source": [
    "## Model Definition\n",
    "\n",
    "Here we will be defining our hybrid CNN - MLP model. The images are fed through a CNN, whilst the non-image feature data is fed through an MLP. The outputs of each are combined into another MLP. Below you will need to define your hyper parameters."
   ]
  },
  {
   "cell_type": "code",
   "execution_count": 160,
   "id": "fd179b23",
   "metadata": {},
   "outputs": [],
   "source": [
    "from keras.models import Sequential\n",
    "from keras.layers.core import Dense\n",
    "\n",
    "def create_mlp(dim, regularizer=None):\n",
    "    \"\"\"Creates a simple two-layer MLP with inputs of the given dimension. You can change these dimension or add more layers.\"\"\"\n",
    "    model = Sequential()\n",
    "    model.add(Dense(32, input_dim=dim, activation=\"relu\", kernel_regularizer=regularizer))\n",
    "    model.add(Dropout(0.25))\n",
    "    model.add(Dense(16, activation=\"relu\", kernel_regularizer=regularizer))\n",
    "    model.add(Dense(network_outputs, activation=\"relu\", kernel_regularizer=regularizer))\n",
    "    return model"
   ]
  },
  {
   "cell_type": "code",
   "execution_count": 161,
   "id": "7e6cc508",
   "metadata": {},
   "outputs": [],
   "source": [
    "from keras.layers import Flatten, Input, concatenate\n",
    "from keras.layers.convolutional import Conv2D, MaxPooling2D\n",
    "from keras.layers.core import Activation, Dropout, Dense\n",
    "from keras.layers.normalization import BatchNormalization\n",
    "from keras.models import Model\n",
    "\n",
    "def create_cnn(width, height, depth, filters=(16, 32, 64), regularizer=None):\n",
    "    \"\"\"\n",
    "    Creates a CNN with the given input dimension and filter numbers.\n",
    "    \"\"\"\n",
    "    # Initialize the input shape and channel dimension, where the number of channels is the last dimension\n",
    "    inputShape = (height, width, depth)\n",
    "    chanDim = -1\n",
    " \n",
    "    # Define the model input\n",
    "    inputs = Input(shape=inputShape)\n",
    " \n",
    "    # Loop over the number of filters \n",
    "    for (i, f) in enumerate(filters):\n",
    "        # If this is the first CONV layer then set the input appropriately\n",
    "        if i == 0:\n",
    "            x = inputs\n",
    " \n",
    "        # Create loops of CONV => RELU => BN => POOL layers\n",
    "        x = Conv2D(f, (3, 3), padding=\"same\")(x)\n",
    "        x = Activation(\"relu\")(x)\n",
    "        x = BatchNormalization(axis=chanDim)(x)\n",
    "        x = MaxPooling2D(pool_size=(2, 2))(x)\n",
    "        \n",
    "    # Final layers - flatten the volume, then Fully-Connected => RELU => BN => DROPOUT\n",
    "    x = Flatten()(x)\n",
    "    x = Dense(16, kernel_regularizer=regularizer)(x)\n",
    "    x = Activation(\"relu\")(x)\n",
    "    x = BatchNormalization(axis=chanDim)(x)\n",
    "    x = Dropout(0.3)(x)\n",
    " \n",
    "    # Apply another fully-connected layer, this one to match the number of nodes coming out of the MLP\n",
    "    x = Dense(network_outputs, kernel_regularizer=regularizer)(x)\n",
    "    \n",
    "    #You may need to modify this for your type of problem:\n",
    "    \n",
    "    #Classification\n",
    "    #x = Activation(\"softmax\")(x)\n",
    "    \n",
    "    #Regression\n",
    "    x = Activation(\"relu\")(x)\n",
    "    \n",
    "    \n",
    " \n",
    "    # Construct the CNN\n",
    "    model = Model(inputs, x)\n",
    " \n",
    "    # Return the CNN\n",
    "    return model"
   ]
  },
  {
   "cell_type": "code",
   "execution_count": 1,
   "id": "9192881d",
   "metadata": {},
   "outputs": [],
   "source": [
    "#this function plots the results\n",
    "def plot_results(history):\n",
    "    met = history.history[loss_metric]\n",
    "    epochs = range(1, len(met) + 1)\n",
    "    \n",
    "    for m in metrics:\n",
    "        met = history.history[m]\n",
    "        met_val = history.history[\"val_\"+m]\n",
    "        plt.plot(epochs, met, 'g.', label='Training')\n",
    "        plt.plot(epochs, met_val, 'g', label='Validation')\n",
    "        plt.title(m)\n",
    "        plt.figure()            \n",
    "        plt.legend()\n",
    "        \n",
    "    plt.show()\n",
    "    "
   ]
  },
  {
   "cell_type": "markdown",
   "id": "fe250dfb",
   "metadata": {},
   "source": [
    "## Creating the Model\n",
    "\n",
    "Here we create a model using our model definition functions"
   ]
  },
  {
   "cell_type": "code",
   "execution_count": 195,
   "id": "0fdb23b5",
   "metadata": {},
   "outputs": [],
   "source": [
    "from keras.regularizers import l1\n",
    "from keras.regularizers import l2\n",
    "from keras.models import Sequential\n",
    "from keras.optimizers import Adam # Other optimisers are available"
   ]
  },
  {
   "cell_type": "code",
   "execution_count": 196,
   "id": "f2c46b71",
   "metadata": {},
   "outputs": [],
   "source": [
    "reg = None #l1(0.01) you may want to use regularizer to help reduce overfitting"
   ]
  },
  {
   "cell_type": "code",
   "execution_count": 197,
   "id": "1dcb97fc",
   "metadata": {},
   "outputs": [],
   "source": [
    "#The regression metric your model will try to optimize. Only this metric will affect the training. \n",
    "#use another metric for classification\n",
    "loss_metric = 'mean_squared_error' \n",
    "\n",
    "metrics = [loss_metric, 'mean_absolute_error'] #The metrics your model will calculate during training. You can add other metrics to this list, but they will not affect the training. \n",
    "\n",
    "filters = (16, 32, 64) #each number here will increase the size of your CNN. The number represents the depth at that layer. \n",
    "\n",
    "image_width = 200  #the width of your image in pixels\n",
    "image_height = 200  #the height of your image in pixels\n",
    "image_channels = 3 #the number of color channels in your image (3 for RGB, 4 for RGBA)\n",
    "\n",
    "network_outputs = 8 #the number outputs both the MLP and CNN have. (They don't need to be the same, you can change them each individually)\n",
    "\n",
    "learning_rate = 1e-3\n",
    "\n",
    "save_path = \"Models/run1\" #the name of your model's save path. you may have to create a Models folder. Change this to avoid overwriting models you have already trained. "
   ]
  },
  {
   "cell_type": "code",
   "execution_count": 177,
   "id": "e560a088",
   "metadata": {},
   "outputs": [],
   "source": [
    "# Create the MLP and CNN models\n",
    "mlp = create_mlp(normalized_df.shape[1] - 1, reg) #take 1, because we are going to remove the image paths in the generator\n",
    "cnn = create_cnn(image_width, image_height, image_channels, filters, reg)\n",
    " \n",
    "# Create the input to the final set of layers as the output of both the MLP and CNN\n",
    "combinedInput = concatenate([mlp.output, cnn.output])\n",
    "\n",
    "x = Dense(network_outputs, activation=\"relu\")(combinedInput)\n",
    "x = Dropout(0.3)(x)\n",
    "x = Dense(16, activation=\"relu\")(x)\n",
    "\n",
    "#last layer should have something like relu for regression\n",
    "x = Dense(1, activation=\"relu\")(x)\n",
    "\n",
    "#We are using a relu activation on the last layer for regression. Depending on your response data, you may need to use a different activation function. \n",
    "#For example, relu will not handle negative numbers"
   ]
  },
  {
   "cell_type": "code",
   "execution_count": 178,
   "id": "58fca189",
   "metadata": {},
   "outputs": [],
   "source": [
    "# Rerun this cell to reset the model\n",
    "\n",
    "# The final model accepts numerical data on the MLP input and images on the CNN input, outputting a single value\n",
    "\n",
    "model_main = Model(inputs=[mlp.input, cnn.input], outputs=x)\n",
    "\n",
    "# Compile the model \n",
    "opt = Adam(lr=learning_rate, decay=learning_rate / 200)\n",
    "\n",
    "model_main.compile(loss=loss_metric, metrics=metrics, optimizer=opt)"
   ]
  },
  {
   "cell_type": "markdown",
   "id": "4d2f1a06",
   "metadata": {},
   "source": [
    "## Callbacks\n",
    "\n",
    "These callbacks are used to help the model. If you change your model, make sure you double check these. For example, if you use r2, you will need to set mode to max"
   ]
  },
  {
   "cell_type": "code",
   "execution_count": 179,
   "id": "1b24c89c",
   "metadata": {},
   "outputs": [],
   "source": [
    "from tensorflow.keras.callbacks import EarlyStopping\n",
    "es = EarlyStopping(mode = 'min', monitor = 'val_loss', patience = 3)"
   ]
  },
  {
   "cell_type": "code",
   "execution_count": 180,
   "id": "a6be74b6",
   "metadata": {},
   "outputs": [],
   "source": [
    "from tensorflow.keras.callbacks import ModelCheckpoint\n",
    "savePath = save_path\n",
    "checkpoint = ModelCheckpoint(savePath)"
   ]
  },
  {
   "cell_type": "markdown",
   "id": "4d2561e3",
   "metadata": {},
   "source": [
    "## Creating the Data Generators\n",
    "\n",
    "Here we will create the data generators for both the training and validation sets."
   ]
  },
  {
   "cell_type": "code",
   "execution_count": 181,
   "id": "f325fd4d",
   "metadata": {},
   "outputs": [],
   "source": [
    "# How many batches are used for each calculation. \n",
    "batch_size = 32 \n",
    "\n",
    "#The proportion of the total dataset used for training. The rest will be used for validation. \n",
    "train_size = 0.8"
   ]
  },
  {
   "cell_type": "code",
   "execution_count": 182,
   "id": "53da23e8",
   "metadata": {},
   "outputs": [],
   "source": [
    "from sklearn.model_selection import train_test_split\n",
    "\n",
    "X_train, X_test, y_train, y_test = train_test_split(normalized_df, response, train_size = train_size)"
   ]
  },
  {
   "cell_type": "code",
   "execution_count": 183,
   "id": "54635cb4",
   "metadata": {},
   "outputs": [],
   "source": [
    "#This process may remove some data points at the end due to rounding, never more than the batch size. \n",
    "\n",
    "extra_train = len(y_train)%batch_size\n",
    "extra_test = len(y_test)%batch_size\n",
    "\n",
    "X_train = X_train[:-extra_train]\n",
    "y_train = y_train[:-extra_train]\n",
    "\n",
    "X_test = X_test[:-extra_test]\n",
    "y_test = y_test[:-extra_test]"
   ]
  },
  {
   "cell_type": "code",
   "execution_count": 184,
   "id": "b78bdd79",
   "metadata": {},
   "outputs": [
    {
     "name": "stdout",
     "output_type": "stream",
     "text": [
      "0\n",
      "0\n"
     ]
    }
   ],
   "source": [
    "print(len(y_test)%batch_size)\n",
    "print(len(y_train)%batch_size)\n",
    "\n",
    "# both numbers should be 0, otherwise your model may encounter an error at the end of its first epoch. \n",
    "# this is caused because the dataset may not always go evenly into the batch size. \n",
    "# The data generator should account for this, but it hasn't been fully tested. "
   ]
  },
  {
   "cell_type": "code",
   "execution_count": 185,
   "id": "ded32b30",
   "metadata": {},
   "outputs": [],
   "source": [
    "#Here we create the generators from the data set. \n",
    "gen =    CustomGenerator(path, X_train,  y_train, batch_size)\n",
    "genVal = CustomGenerator(path, X_test,   y_test,  batch_size)"
   ]
  },
  {
   "cell_type": "markdown",
   "id": "490fa33e",
   "metadata": {},
   "source": [
    "## Training the Model\n",
    "\n",
    "If you training the model, it will continue from the where it left off unless you reset the model by reset the model_main variable"
   ]
  },
  {
   "cell_type": "code",
   "execution_count": 189,
   "id": "fec8e0fe",
   "metadata": {},
   "outputs": [],
   "source": [
    "#The number of times the training algorithm will go through the entire dataset.\n",
    "epochs = 5"
   ]
  },
  {
   "cell_type": "code",
   "execution_count": 190,
   "id": "7e8f1521",
   "metadata": {},
   "outputs": [
    {
     "name": "stdout",
     "output_type": "stream",
     "text": [
      "Epoch 1/5\n",
      "2352/2352 [==============================] - ETA: 0s - loss: 1.3135 - mean_squared_error: 1.3135 - mean_absolute_error: 0.2016INFO:tensorflow:Assets written to: Models/run1/assets\n",
      "2352/2352 [==============================] - 131s 56ms/step - loss: 1.3135 - mean_squared_error: 1.3135 - mean_absolute_error: 0.2016 - val_loss: 1.1662 - val_mean_squared_error: 1.1662 - val_mean_absolute_error: 0.1915\n",
      "Epoch 2/5\n",
      "2351/2352 [============================>.] - ETA: 0s - loss: 1.3140 - mean_squared_error: 1.3140 - mean_absolute_error: 0.2017INFO:tensorflow:Assets written to: Models/run1/assets\n",
      "2352/2352 [==============================] - 130s 55ms/step - loss: 1.3135 - mean_squared_error: 1.3135 - mean_absolute_error: 0.2016 - val_loss: 1.1662 - val_mean_squared_error: 1.1662 - val_mean_absolute_error: 0.1915\n",
      "Epoch 3/5\n",
      "2351/2352 [============================>.] - ETA: 0s - loss: 1.3140 - mean_squared_error: 1.3140 - mean_absolute_error: 0.2017INFO:tensorflow:Assets written to: Models/run1/assets\n",
      "2352/2352 [==============================] - 127s 54ms/step - loss: 1.3135 - mean_squared_error: 1.3135 - mean_absolute_error: 0.2016 - val_loss: 1.1662 - val_mean_squared_error: 1.1662 - val_mean_absolute_error: 0.1915\n",
      "Epoch 4/5\n",
      "2352/2352 [==============================] - ETA: 0s - loss: 1.3135 - mean_squared_error: 1.3135 - mean_absolute_error: 0.2016INFO:tensorflow:Assets written to: Models/run1/assets\n",
      "2352/2352 [==============================] - 128s 54ms/step - loss: 1.3135 - mean_squared_error: 1.3135 - mean_absolute_error: 0.2016 - val_loss: 1.1662 - val_mean_squared_error: 1.1662 - val_mean_absolute_error: 0.1915\n"
     ]
    }
   ],
   "source": [
    "model_history = model_main.fit(\n",
    "  x = gen,  \n",
    "  epochs = epochs, \n",
    "  steps_per_epoch = len(y_train)//batch_size,\n",
    "  verbose = 1,  \n",
    "  validation_data = genVal,\n",
    "  validation_batch_size = batch_size,\n",
    "  validation_steps = len(y_test)/batch_size,\n",
    "  callbacks = [es, checkpoint],\n",
    ")"
   ]
  },
  {
   "cell_type": "markdown",
   "id": "b11ed72a",
   "metadata": {},
   "source": [
    "## Plotting the Data"
   ]
  },
  {
   "cell_type": "code",
   "execution_count": 208,
   "id": "3353f338",
   "metadata": {},
   "outputs": [
    {
     "name": "stderr",
     "output_type": "stream",
     "text": [
      "No handles with labels found to put in legend.\n",
      "No handles with labels found to put in legend.\n"
     ]
    },
    {
     "data": {
      "image/png": "[encoded data removed]",
      "text/plain": [
       "<Figure size 432x288 with 1 Axes>"
      ]
     },
     "metadata": {
      "needs_background": "light"
     },
     "output_type": "display_data"
    },
    {
     "data": {
      "image/png": "[encoded data removed]",
      "text/plain": [
       "<Figure size 432x288 with 1 Axes>"
      ]
     },
     "metadata": {
      "needs_background": "light"
     },
     "output_type": "display_data"
    },
    {
     "data": {
      "image/png": "[encoded data removed]",
      "text/plain": [
       "<Figure size 432x288 with 1 Axes>"
      ]
     },
     "metadata": {
      "needs_background": "light"
     },
     "output_type": "display_data"
    }
   ],
   "source": [
    "plot_results(model_history)"
   ]
  },
  {
   "cell_type": "code",
   "execution_count": 193,
   "id": "16499bff",
   "metadata": {},
   "outputs": [],
   "source": [
    "genVal = CustomGenerator(path, X_test,   y_test,  batch_size)"
   ]
  },
  {
   "cell_type": "code",
   "execution_count": null,
   "id": "10254525",
   "metadata": {},
   "outputs": [],
   "source": [
    "#run this many times to see predictions. \n",
    "x,y = next(genVal)\n",
    "preds = model_main.predict(x)\n",
    "df_results = pd.DataFrame({'Actual':y,'Preds':preds[:,0]})\n",
    "df_results['Difference'] = df_results['Actual'] - df_results['Preds']"
   ]
  },
  {
   "cell_type": "code",
   "execution_count": null,
   "id": "0151a5e9",
   "metadata": {},
   "outputs": [],
   "source": [
    "df_results"
   ]
  }
 ],
 "metadata": {
  "environment": {
   "name": "tf2-gpu.2-3.m74",
   "type": "gcloud",
   "uri": "gcr.io/deeplearning-platform-release/tf2-gpu.2-3:m74"
  },
  "kernelspec": {
   "display_name": "Python 3",
   "language": "python",
   "name": "python3"
  },
  "language_info": {
   "codemirror_mode": {
    "name": "ipython",
    "version": 3
   },
   "file_extension": ".py",
   "mimetype": "text/x-python",
   "name": "python",
   "nbconvert_exporter": "python",
   "pygments_lexer": "ipython3",
   "version": "3.7.10"
  }
 },
 "nbformat": 4,
 "nbformat_minor": 5
}
